{
 "cells": [
  {
   "cell_type": "code",
   "execution_count": 1,
   "metadata": {
    "_cell_guid": "b1076dfc-b9ad-4769-8c92-a6c4dae69d19",
    "_uuid": "8f2839f25d086af736a60e9eeb907d3b93b6e0e5"
   },
   "outputs": [
    {
     "name": "stdout",
     "output_type": "stream",
     "text": [
      "/kaggle/input/red-wine-quality-cortez-et-al-2009/winequality-red.csv\n"
     ]
    }
   ],
   "source": [
    "# This Python 3 environment comes with many helpful analytics libraries installed\n",
    "# It is defined by the kaggle/python Docker image: https://github.com/kaggle/docker-python\n",
    "# For example, here's several helpful packages to load\n",
    "\n",
    "import numpy as np # linear algebra\n",
    "import pandas as pd # data processing, CSV file I/O (e.g. pd.read_csv)\n",
    "\n",
    "# Input data files are available in the read-only \"../input/\" directory\n",
    "# For example, running this (by clicking run or pressing Shift+Enter) will list all files under the input directory\n",
    "\n",
    "import os\n",
    "for dirname, _, filenames in os.walk('/kaggle/input'):\n",
    "    for filename in filenames:\n",
    "        print(os.path.join(dirname, filename))\n",
    "\n",
    "# You can write up to 5GB to the current directory (/kaggle/working/) that gets preserved as output when you create a version using \"Save & Run All\" \n",
    "# You can also write temporary files to /kaggle/temp/, but they won't be saved outside of the current session"
   ]
  },
  {
   "cell_type": "code",
   "execution_count": 2,
   "metadata": {
    "_cell_guid": "79c7e3d0-c299-4dcb-8224-4455121ee9b0",
    "_uuid": "d629ff2d2480ee46fbb7e2d37f6b5fab8052498a"
   },
   "outputs": [
    {
     "name": "stdout",
     "output_type": "stream",
     "text": [
      "   fixed acidity  volatile acidity  citric acid  residual sugar  chlorides  \\\n",
      "0            7.4              0.70         0.00             1.9      0.076   \n",
      "1            7.8              0.88         0.00             2.6      0.098   \n",
      "2            7.8              0.76         0.04             2.3      0.092   \n",
      "3           11.2              0.28         0.56             1.9      0.075   \n",
      "4            7.4              0.70         0.00             1.9      0.076   \n",
      "\n",
      "   free sulfur dioxide  total sulfur dioxide  density    pH  sulphates  \\\n",
      "0                 11.0                  34.0   0.9978  3.51       0.56   \n",
      "1                 25.0                  67.0   0.9968  3.20       0.68   \n",
      "2                 15.0                  54.0   0.9970  3.26       0.65   \n",
      "3                 17.0                  60.0   0.9980  3.16       0.58   \n",
      "4                 11.0                  34.0   0.9978  3.51       0.56   \n",
      "\n",
      "   alcohol  quality  \n",
      "0      9.4        5  \n",
      "1      9.8        5  \n",
      "2      9.8        5  \n",
      "3      9.8        6  \n",
      "4      9.4        5  \n",
      "<class 'pandas.core.frame.DataFrame'>\n",
      "RangeIndex: 1599 entries, 0 to 1598\n",
      "Data columns (total 12 columns):\n",
      " #   Column                Non-Null Count  Dtype  \n",
      "---  ------                --------------  -----  \n",
      " 0   fixed acidity         1599 non-null   float64\n",
      " 1   volatile acidity      1599 non-null   float64\n",
      " 2   citric acid           1599 non-null   float64\n",
      " 3   residual sugar        1599 non-null   float64\n",
      " 4   chlorides             1599 non-null   float64\n",
      " 5   free sulfur dioxide   1599 non-null   float64\n",
      " 6   total sulfur dioxide  1599 non-null   float64\n",
      " 7   density               1599 non-null   float64\n",
      " 8   pH                    1599 non-null   float64\n",
      " 9   sulphates             1599 non-null   float64\n",
      " 10  alcohol               1599 non-null   float64\n",
      " 11  quality               1599 non-null   int64  \n",
      "dtypes: float64(11), int64(1)\n",
      "memory usage: 150.0 KB\n",
      "None\n"
     ]
    }
   ],
   "source": [
    "data_df = pd.read_csv('/kaggle/input/red-wine-quality-cortez-et-al-2009/winequality-red.csv')\n",
    "print(data_df.head())\n",
    "print(data_df.info())"
   ]
  },
  {
   "cell_type": "code",
   "execution_count": 3,
   "metadata": {},
   "outputs": [
    {
     "name": "stdout",
     "output_type": "stream",
     "text": [
      "Total number of nan values for column fixed acidity are 0\n",
      "Total number of nan values for column volatile acidity are 0\n",
      "Total number of nan values for column citric acid are 0\n",
      "Total number of nan values for column residual sugar are 0\n",
      "Total number of nan values for column chlorides are 0\n",
      "Total number of nan values for column free sulfur dioxide are 0\n",
      "Total number of nan values for column total sulfur dioxide are 0\n",
      "Total number of nan values for column density are 0\n",
      "Total number of nan values for column pH are 0\n",
      "Total number of nan values for column sulphates are 0\n",
      "Total number of nan values for column alcohol are 0\n",
      "Total number of nan values for column quality are 0\n"
     ]
    }
   ],
   "source": [
    "for column in data_df.columns:\n",
    "    print('Total number of nan values for column {} are {}'.format(column, data_df[column].isnull().sum()))"
   ]
  },
  {
   "cell_type": "code",
   "execution_count": 4,
   "metadata": {},
   "outputs": [
    {
     "name": "stdout",
     "output_type": "stream",
     "text": [
      "       fixed acidity  volatile acidity  citric acid  residual sugar  \\\n",
      "count    1599.000000       1599.000000  1599.000000     1599.000000   \n",
      "mean        8.319637          0.527821     0.270976        2.538806   \n",
      "std         1.741096          0.179060     0.194801        1.409928   \n",
      "min         4.600000          0.120000     0.000000        0.900000   \n",
      "25%         7.100000          0.390000     0.090000        1.900000   \n",
      "50%         7.900000          0.520000     0.260000        2.200000   \n",
      "75%         9.200000          0.640000     0.420000        2.600000   \n",
      "max        15.900000          1.580000     1.000000       15.500000   \n",
      "\n",
      "         chlorides  free sulfur dioxide  total sulfur dioxide      density  \\\n",
      "count  1599.000000          1599.000000           1599.000000  1599.000000   \n",
      "mean      0.087467            15.874922             46.467792     0.996747   \n",
      "std       0.047065            10.460157             32.895324     0.001887   \n",
      "min       0.012000             1.000000              6.000000     0.990070   \n",
      "25%       0.070000             7.000000             22.000000     0.995600   \n",
      "50%       0.079000            14.000000             38.000000     0.996750   \n",
      "75%       0.090000            21.000000             62.000000     0.997835   \n",
      "max       0.611000            72.000000            289.000000     1.003690   \n",
      "\n",
      "                pH    sulphates      alcohol      quality  \n",
      "count  1599.000000  1599.000000  1599.000000  1599.000000  \n",
      "mean      3.311113     0.658149    10.422983     5.636023  \n",
      "std       0.154386     0.169507     1.065668     0.807569  \n",
      "min       2.740000     0.330000     8.400000     3.000000  \n",
      "25%       3.210000     0.550000     9.500000     5.000000  \n",
      "50%       3.310000     0.620000    10.200000     6.000000  \n",
      "75%       3.400000     0.730000    11.100000     6.000000  \n",
      "max       4.010000     2.000000    14.900000     8.000000  \n"
     ]
    },
    {
     "ename": "NameError",
     "evalue": "name 'plt' is not defined",
     "output_type": "error",
     "traceback": [
      "\u001b[0;31m---------------------------------------------------------------------------\u001b[0m",
      "\u001b[0;31mNameError\u001b[0m                                 Traceback (most recent call last)",
      "\u001b[0;32m<ipython-input-4-83416939069e>\u001b[0m in \u001b[0;36m<module>\u001b[0;34m\u001b[0m\n\u001b[1;32m      3\u001b[0m \u001b[0;34m\u001b[0m\u001b[0m\n\u001b[1;32m      4\u001b[0m \u001b[0msns\u001b[0m\u001b[0;34m.\u001b[0m\u001b[0mheatmap\u001b[0m\u001b[0;34m(\u001b[0m\u001b[0mdata_df\u001b[0m\u001b[0;34m.\u001b[0m\u001b[0mcorr\u001b[0m\u001b[0;34m(\u001b[0m\u001b[0;34m)\u001b[0m\u001b[0;34m)\u001b[0m\u001b[0;34m\u001b[0m\u001b[0;34m\u001b[0m\u001b[0m\n\u001b[0;32m----> 5\u001b[0;31m \u001b[0mplt\u001b[0m\u001b[0;34m.\u001b[0m\u001b[0mshow\u001b[0m\u001b[0;34m(\u001b[0m\u001b[0;34m)\u001b[0m\u001b[0;34m\u001b[0m\u001b[0;34m\u001b[0m\u001b[0m\n\u001b[0m",
      "\u001b[0;31mNameError\u001b[0m: name 'plt' is not defined"
     ]
    },
    {
     "data": {
      "image/png": "[encoded data removed]",
      "text/plain": [
       "<Figure size 432x288 with 2 Axes>"
      ]
     },
     "metadata": {
      "needs_background": "light"
     },
     "output_type": "display_data"
    }
   ],
   "source": [
    "print(data_df.describe())\n",
    "import seaborn as sns\n",
    "\n",
    "sns.heatmap(data_df.corr())\n",
    "plt.show()"
   ]
  },
  {
   "cell_type": "code",
   "execution_count": 5,
   "metadata": {},
   "outputs": [],
   "source": [
    "from sklearn import linear_model\n",
    "from sklearn.model_selection import train_test_split\n",
    "from matplotlib import pyplot as plt"
   ]
  },
  {
   "cell_type": "code",
   "execution_count": 6,
   "metadata": {},
   "outputs": [
    {
     "name": "stdout",
     "output_type": "stream",
     "text": [
      "X train \n",
      "      fixed acidity  volatile acidity  citric acid  residual sugar  chlorides  \\\n",
      "1345            8.2              0.44         0.24            2.30      0.063   \n",
      "179             8.8              0.61         0.14            2.40      0.067   \n",
      "757             8.1              0.87         0.00            2.20      0.084   \n",
      "326            11.6              0.53         0.66            3.65      0.121   \n",
      "1369            6.6              0.61         0.00            1.60      0.069   \n",
      "\n",
      "      free sulfur dioxide  total sulfur dioxide  density    pH  sulphates  \\\n",
      "1345                 10.0                  28.0  0.99613  3.25       0.53   \n",
      "179                  10.0                  42.0  0.99690  3.19       0.59   \n",
      "757                  10.0                  31.0  0.99656  3.25       0.50   \n",
      "326                   6.0                  14.0  0.99780  3.05       0.74   \n",
      "1369                  4.0                   8.0  0.99396  3.33       0.37   \n",
      "\n",
      "      alcohol  \n",
      "1345     10.2  \n",
      "179       9.5  \n",
      "757       9.8  \n",
      "326      11.5  \n",
      "1369     10.4  \n",
      "X test \n",
      "      fixed acidity  volatile acidity  citric acid  residual sugar  chlorides  \\\n",
      "678             8.3             0.780         0.10             2.6      0.081   \n",
      "1500            7.5             0.725         0.04             1.5      0.076   \n",
      "1457            7.6             0.490         0.33             1.9      0.074   \n",
      "1079            7.9             0.300         0.68             8.3      0.050   \n",
      "909             7.3             0.305         0.39             1.2      0.059   \n",
      "\n",
      "      free sulfur dioxide  total sulfur dioxide  density    pH  sulphates  \\\n",
      "678                  45.0                  87.0  0.99830  3.48       0.53   \n",
      "1500                  8.0                  15.0  0.99508  3.26       0.53   \n",
      "1457                 27.0                  85.0  0.99706  3.41       0.58   \n",
      "1079                 37.5                 278.0  0.99316  3.01       0.51   \n",
      "909                   7.0                  11.0  0.99331  3.29       0.52   \n",
      "\n",
      "      alcohol  \n",
      "678      10.0  \n",
      "1500      9.6  \n",
      "1457      9.0  \n",
      "1079     12.3  \n",
      "909      11.5  \n",
      "y train \n",
      "1345    6\n",
      "179     5\n",
      "757     5\n",
      "326     7\n",
      "1369    4\n",
      "Name: quality, dtype: int64\n",
      "y test \n",
      "678     5\n",
      "1500    5\n",
      "1457    5\n",
      "1079    7\n",
      "909     6\n",
      "Name: quality, dtype: int64\n"
     ]
    }
   ],
   "source": [
    "X = data_df.loc[:, data_df.columns != 'quality']\n",
    "X_train, X_test, y_train, y_test = train_test_split(X, data_df['quality'], test_size=0.2, random_state=101)\n",
    "print(\"X train \\n{}\".format(X_train.head()))\n",
    "print(\"X test \\n{}\".format(X_test.head()))\n",
    "print(\"y train \\n{}\".format(y_train.head()))\n",
    "print(\"y test \\n{}\".format(y_test.head()))"
   ]
  },
  {
   "cell_type": "code",
   "execution_count": 7,
   "metadata": {},
   "outputs": [
    {
     "name": "stdout",
     "output_type": "stream",
     "text": [
      "Predictions \n",
      "[5. 5. 5. 6. 6. 7. 6. 6. 6. 6. 6. 6. 6. 5. 6. 5. 6. 5. 5. 5. 6. 6. 5. 6.\n",
      " 6. 5. 5. 6. 7. 5. 5. 5. 6. 5. 5. 7. 6. 6. 5. 5. 7. 5. 6. 6. 6. 6. 6. 7.\n",
      " 5. 6. 5. 6. 5. 5. 6. 6. 6. 6. 7. 7. 5. 5. 5. 6. 5. 6. 5. 6. 5. 6. 5. 5.\n",
      " 6. 6. 5. 8. 5. 6. 5. 6. 5. 6. 5. 5. 6. 5. 5. 6. 5. 6. 7. 6. 5. 6. 6. 5.\n",
      " 5. 6. 5. 6. 5. 6. 5. 6. 5. 6. 6. 6. 5. 6. 5. 6. 5. 6. 5. 6. 6. 5. 5. 5.\n",
      " 6. 6. 5. 6. 6. 5. 6. 5. 6. 5. 5. 5. 6. 6. 6. 7. 5. 6. 6. 6. 5. 6. 5. 5.\n",
      " 6. 7. 6. 6. 6. 5. 6. 6. 5. 6. 5. 5. 5. 5. 6. 5. 5. 5. 6. 5. 6. 6. 7. 6.\n",
      " 6. 6. 5. 6. 6. 5. 6. 6. 6. 6. 6. 5. 6. 5. 5. 5. 6. 5. 5. 6. 6. 5. 6. 6.\n",
      " 6. 6. 6. 6. 5. 6. 6. 6. 5. 6. 5. 7. 6. 5. 6. 6. 6. 6. 6. 5. 7. 5. 5. 6.\n",
      " 5. 6. 5. 5. 5. 7. 5. 6. 6. 6. 6. 6. 6. 6. 5. 5. 6. 5. 6. 5. 6. 6. 5. 6.\n",
      " 5. 6. 6. 5. 5. 5. 5. 7. 5. 6. 5. 6. 5. 5. 6. 5. 6. 5. 6. 7. 5. 6. 5. 6.\n",
      " 5. 6. 5. 5. 6. 7. 6. 6. 6. 5. 6. 5. 5. 6. 5. 5. 6. 6. 6. 6. 5. 6. 5. 5.\n",
      " 5. 6. 6. 5. 5. 6. 5. 6. 5. 6. 5. 5. 7. 5. 5. 5. 6. 6. 6. 6. 5. 6. 6. 6.\n",
      " 5. 5. 5. 6. 5. 5. 6. 5.]\n",
      "183\n",
      "320\n",
      "Accuracy 57.1875\n"
     ]
    }
   ],
   "source": [
    "\n",
    "from sklearn.metrics import classification_report\n",
    "#Straight Simple Naive approach\n",
    "lm = linear_model.LinearRegression()\n",
    "model = lm.fit(X_train, y_train)\n",
    "predictions = lm.predict(X_test)\n",
    "for i in range(len(predictions)):\n",
    "    predictions[i] = int(round(predictions[i]))\n",
    "print('Predictions \\n{}'.format(predictions))\n",
    "\n",
    "matches = (predictions == y_test)\n",
    "print(matches.sum())\n",
    "print(len(matches))\n",
    "print('Accuracy {}'.format(matches.sum() / float(len(matches))*100))\n"
   ]
  },
  {
   "cell_type": "code",
   "execution_count": 8,
   "metadata": {},
   "outputs": [
    {
     "name": "stdout",
     "output_type": "stream",
     "text": [
      "Mean Absolute Error: 0.478125\n",
      "Mean Squared Error: 0.584375\n",
      "Root Mean Squared Error: 0.7644442425710327\n"
     ]
    }
   ],
   "source": [
    "from sklearn import metrics\n",
    "print('Mean Absolute Error:', metrics.mean_absolute_error(y_test, predictions))\n",
    "print('Mean Squared Error:', metrics.mean_squared_error(y_test, predictions))\n",
    "print('Root Mean Squared Error:', np.sqrt(metrics.mean_squared_error(y_test, predictions)))"
   ]
  }
 ],
 "metadata": {
  "kernelspec": {
   "display_name": "Python 3",
   "language": "python",
   "name": "python3"
  },
  "language_info": {
   "codemirror_mode": {
    "name": "ipython",
    "version": 3
   },
   "file_extension": ".py",
   "mimetype": "text/x-python",
   "name": "python",
   "nbconvert_exporter": "python",
   "pygments_lexer": "ipython3",
   "version": "3.7.6"
  }
 },
 "nbformat": 4,
 "nbformat_minor": 4
}
